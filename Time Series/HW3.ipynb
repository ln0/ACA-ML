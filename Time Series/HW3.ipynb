{
 "cells": [
  {
   "cell_type": "markdown",
   "metadata": {},
   "source": [
    "<span style=\"font-size: 14pt\">YEREVAN, May-June 2017</span>\n",
    "\n",
    "<span style=\"font-size: 16pt\"> HW #3: ARIMA model\n",
    "\n",
    "<span style=\"color:blue; font-size: 12pt\">Alexey Romanenko </span>,\n",
    "<span style=\"color:blue; font-size: 12pt; font-family: 'Verdana'\">alexromsput@gmail.com</span>\n",
    "\n",
    "\n",
    "<h1 align=\"center\"> Home Work 3 </h1>\n",
    "\n",
    "## Answer questions\n",
    "\n",
    "1) **Find equation for $y_t$ that corresponds to the following ARIMA model**:\n",
    " - 1) ARIMA $(p=0,d=k,q=1)$,\n",
    " \n",
    "$$(1-B)^ky_t=c+(1+\\theta_1 B_1)e_t$$\n",
    " \n",
    " - 2) ARIMA $(p=0,d=k+1,q=1)(P=1, D=1, Q=0)_s$,\n",
    "\n",
    "$$(1-\\Phi B^s)(1-B)^{k+1}(1-B^s)y_t=(1+\\theta_1 B_1)e_t$$\n",
    "\n",
    "2)    ** Write canonic form of ARMA model for the time series **\n",
    " - 1) $$y_t = a_1 y_{t-1} + a_2 y_{t-4} - a_1 a_2 y_{t-5} + \\varepsilon_t$$ (Hint: seasonality period is equal to 4).\n",
    " \n",
    "$$ARMA(p=1,q=0)(P=1,Q=0)_4$$\n",
    " \n",
    " - 2) $$y_t = y_{t-d} + \\varepsilon_t +b_2 + \\varepsilon_{t-2} + B_1 y_{t-s} + b_2 B_1 y_{t-s-2} $$\n",
    "\n",
    "$$ARMA(p=d,q=2)(P=0,Q=1)_s$$\n",
    "    \n",
    "3) **Prove that ARIMA$(p=0,d=2, q=2)$ is equivalent to Holt (linear trend) with:**\n",
    "\t\t$$(1-L)^2Y_t = (1-\\phi_1 L-\\phi_2 L^2)\\varepsilon_t$$\n",
    "\t\t$$\\phi_1 = 2-\\alpha-\\alpha\\beta, \\text{ }\\phi_2 = \\alpha-1$$\n",
    "\n",
    "From Holt model we have\n",
    "$$\n",
    "\\hat y_t = l_{t - 1} + b_{t - 1} = \\hat y_{t - 1} + \\alpha (1 + \\beta) e_{t-1} + b_{t - 2}.\n",
    "$$ \n",
    "And from ARIMA we have$$\n",
    "(1 - 2L + L^2)Y_t = (1 - (2 - \\alpha - \\alpha \\beta)L - (\\alpha - 1)L^2)\\varepsilon_t\n",
    "$$$$\n",
    "Y_t - 2Y_{t - 1} + Y_{t - 1} = (Y_t - \\hat Y_t) - 2(Y_{t - 1} - \\hat Y_{t - 1}) + \\alpha(1 + \\beta)\\varepsilon_{t - 1} + (Y_{t - 2} - \\hat Y_{t - 2}) - \\alpha \\varepsilon_{t - 2}\n",
    "$$$$\n",
    "\\hat Y_t = \\hat Y_{t - 1} + \\alpha(1 + \\beta)\\varepsilon_{t - 1} + \\hat Y_{t - 1} - \\hat Y_{t - 2} - \\alpha \\varepsilon_{t - 2}.$$\n",
    "\n",
    "As $\\hat Y_{t - 1} = l_{t - 2} + b_{t - 2}$ and $l_{t - 2} = \\hat Y_{t - 2} + \\alpha \\varepsilon_{t - 2}$, we get \n",
    "$$\n",
    "\\hat Y_t = \\hat Y_{t - 1} + \\alpha(1 + \\beta)\\varepsilon_{t - 1} + b_{t - 2}.\n",
    "$$"
   ]
  }
 ],
 "metadata": {
  "anaconda-cloud": {},
  "kernelspec": {
   "display_name": "Python 3",
   "language": "python",
   "name": "python3"
  },
  "language_info": {
   "codemirror_mode": {
    "name": "ipython",
    "version": 3
   },
   "file_extension": ".py",
   "mimetype": "text/x-python",
   "name": "python",
   "nbconvert_exporter": "python",
   "pygments_lexer": "ipython3",
   "version": "3.6.0"
  }
 },
 "nbformat": 4,
 "nbformat_minor": 1
}
