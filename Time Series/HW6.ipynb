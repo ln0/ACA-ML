{
 "cells": [
  {
   "cell_type": "markdown",
   "metadata": {},
   "source": [
    "<span style=\"font-size: 14pt\">YEREVAN, May-June 2017</span>\n",
    "\n",
    "<span style=\"font-size: 16pt\"> HW #6: ARIMA model\n",
    "\n",
    "<span style=\"color:blue; font-size: 12pt\">Alexey Romanenko </span>,\n",
    "<span style=\"color:blue; font-size: 12pt; font-family: 'Verdana'\">alexromsput@gmail.com</span>\n",
    "\n",
    "\n",
    "<h1 align=\"center\"> Home Work 6 </h1>\n",
    "\n",
    "## Answer questions\n",
    "\n",
    "**1. Prove next statements for model  $$AR(p)\\colon \\;\\;\\; y_t = \\phi_1 y_{t-1} + \\phi_2 y_{t-2} + \\dots + \\phi_p y_{t-p} + \\varepsilon_t,$$**  \n",
    "    where $y_t$ is a stationary time series with zero average,$~~$\n",
    "    $\\phi_1,\\dots,\\phi_p$ are constants ($\\phi_q \\neq 0$), $~~$\n",
    "    $\\varepsilon_t$ is gaussian white noise with zero average and constant dispersion $\\sigma_\\varepsilon^2.$\n",
    "\n",
    "   * a) partial autocorrelation coefficient\n",
    "   $$\\phi_{\\tau\\tau} = E[y_t-\\hat y_t, y_{t+\\tau} - \\hat y_{t+\\tau}]= \\begin{cases}0 &, \\tau>p; \\\\ f(\\tau,p)>0 &, 0\\leq\\tau\\leq p. \\end{cases}$$\n",
    "\t\n",
    "  where $\\hat y_t$ - forecast of $y_t$ with following regression model $$y_t = \\sum_{j=1}^{\\tau-1}\\beta_j y_{t+j}$$\n",
    "    $\\hat y_{t+\\tau}$ - forecast of $y_{t\\tau}$ with following regression model $$y_{t+\\tau} = \\sum_{j=1}^{\\tau-1}\\gamma_j y_{t+j}$$\n",
    "\n",
    "Proof:\n",
    "$$ y_{t+\\tau} - \\hat y_{t+\\tau}=\n",
    "\\varepsilon_{t+\\tau} + \\sum_{i=1}^{p}\\phi_iy_{t+\\tau-i} -  \\sum_{j=1}^{\\tau-1}\\gamma_j y_{t+j}$$\n",
    "$$S = \\sum_{i=1}^{p}\\phi_iy_{t+\\tau-i} -  \\sum_{j=1}^{\\tau-1}\\gamma_j y_{t+j} = \\sum_{i=1}^{p}\\phi_iy_{t+\\tau-i} -  \\sum_{i=1}^{\\tau-1}\\gamma_{\\tau-i} y_{t+\\tau-i}$$\n",
    "$$\\phi_i = \\gamma_{\\tau-i}, \\quad where \\quad i = 1,...,p$$\n",
    "$$\\gamma_{\\tau-i}=0, \\quad where \\quad i=(p+1),...,(\\tau-1)$$\n",
    "if $p < \\tau$, then $S = 0$, and then \n",
    "$$\\phi_{\\tau\\tau} = E[(y_t - \\hat y_t)( \\varepsilon_t + S)] = 0 $$\n",
    "if $p \\geq \\tau$, then $$\\phi_{\\tau\\tau} = E[y_i y_j] \\ne 0, \\quad where \\quad |i-j| \\leq p $$\n",
    "\n",
    "\n",
    "**2. Prove next statements for model  $$MA(q)\\colon \\;\\;\\; y_t = \\varepsilon_t + \\theta_1\\varepsilon_{t-1} + \\theta_2\\varepsilon_{t-2} + \\dots + \\theta_q \\varepsilon_{t-q},$$** $$ $$\n",
    "    where $y_t$ is a stationary time series with zero average,$~~$\n",
    "    $\\theta_1,\\dots,\\theta_q$ are constants ($\\theta_q \\neq 0$),$~~$ \n",
    "    $\\varepsilon_t$ is gaussian white noise with zero average and constant dispersion $\\sigma_\\varepsilon^2.$\n",
    "\n",
    "\n",
    "* a) correlation coefficient\n",
    "   $$r_\\tau=\\begin{cases}0 &, \\tau>q; \\\\ f(\\tau,q)>0 &, \\tau\\leq q. \\end{cases}$$\n",
    "   \n",
    "$$ r_t = E[y_t y_{t+\\tau}] = E[(\\varepsilon_{t} + \\sum_{i=1}^{q}\\theta_i \\varepsilon_{t-i}) (\\varepsilon_{t+\\tau} + \\sum_{i=1}^{q}\\theta_i \\varepsilon_{t+ \\tau -i})]=\\begin{cases}0 &, t+\\tau-q>t; \\\\ f(\\tau,q)>0 &, t+\\tau-q\\leq t. \\end{cases} = \\begin{cases}0 &, \\tau>q; \\\\ f(\\tau,q)>0 &, \\tau\\leq q. \\end{cases}$$\n",
    "\n",
    "(If $\\tau > q$, all errors will be uncorrelated and for every combination the Expectation will be 0.\n",
    "Otherwise, if $\\tau < q$, there will be correalted errors, and their Expectations $E(\\varepsilon_i ^2) = \\sigma ^2 $ will be positive.)\n",
    "\n",
    "**3. Conclude in accordance with results above how to choose $p$ and $q$ parameters for ARMA model by looking at ACF and PACF.**\n",
    "\n",
    "We can determine the parameter $p$ (the AR component) from PACF model by choosing the maximum lag in which PACF is different than zero.\n",
    "\n",
    "We can determine the parameter $q$ (the MA component) from ACF model by choosing the maximum lag in which ACF is different than zero."
   ]
  }
 ],
 "metadata": {
  "anaconda-cloud": {},
  "kernelspec": {
   "display_name": "Python 3",
   "language": "python",
   "name": "python3"
  },
  "language_info": {
   "codemirror_mode": {
    "name": "ipython",
    "version": 3
   },
   "file_extension": ".py",
   "mimetype": "text/x-python",
   "name": "python",
   "nbconvert_exporter": "python",
   "pygments_lexer": "ipython3",
   "version": "3.6.0"
  }
 },
 "nbformat": 4,
 "nbformat_minor": 1
}
