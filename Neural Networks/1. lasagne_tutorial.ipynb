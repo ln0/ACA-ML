{
 "cells": [
  {
   "cell_type": "markdown",
   "metadata": {},
   "source": [
    "# lasagne\n",
    "* lasagne is a library for neural network building and training\n",
    "* it's a low-level library with almost seamless integration with theano\n",
    "\n",
    "For a demo we shall solve the same digit recognition problem, but at a different scale\n",
    "* images are now 28x28\n",
    "* 10 different digits\n",
    "* 50k samples"
   ]
  },
  {
   "cell_type": "code",
   "execution_count": 1,
   "metadata": {
    "collapsed": true
   },
   "outputs": [],
   "source": [
    "import numpy as np\n",
    "import theano\n",
    "import theano.tensor as T\n",
    "import matplotlib.pyplot as plt\n",
    "import sys\n",
    "import os\n",
    "import time\n",
    "%matplotlib inline"
   ]
  },
  {
   "cell_type": "code",
   "execution_count": 3,
   "metadata": {
    "collapsed": false
   },
   "outputs": [
    {
     "name": "stdout",
     "output_type": "stream",
     "text": [
      "(50000, 1, 28, 28) (50000,)\n"
     ]
    }
   ],
   "source": [
    "from mnist import load_dataset\n",
    "X_train,y_train,X_val,y_val,X_test,y_test = load_dataset()\n",
    "\n",
    "print(X_train.shape,y_train.shape)"
   ]
  },
  {
   "cell_type": "code",
   "execution_count": 4,
   "metadata": {
    "collapsed": false,
    "scrolled": false
   },
   "outputs": [
    {
     "data": {
      "text/plain": [
       "<matplotlib.image.AxesImage at 0x1173a9780>"
      ]
     },
     "execution_count": 4,
     "metadata": {},
     "output_type": "execute_result"
    },
    {
     "data": {
      "image/png": "[encoded data removed]",
      "text/plain": [
       "<matplotlib.figure.Figure at 0x108a7ed30>"
      ]
     },
     "metadata": {},
     "output_type": "display_data"
    }
   ],
   "source": [
    "plt.imshow(X_train[0, 0])"
   ]
  },
  {
   "cell_type": "code",
   "execution_count": 5,
   "metadata": {
    "collapsed": true
   },
   "outputs": [],
   "source": [
    "input_X = T.tensor4(\"X\")\n",
    "\n",
    "#input dimention (None means \"Arbitrary\" and only works at  the first axes [samples])\n",
    "input_shape = [None,1,28,28]\n",
    "\n",
    "target_y = T.vector(\"target Y integer\",dtype='int32')"
   ]
  },
  {
   "cell_type": "markdown",
   "metadata": {},
   "source": [
    "Defining network architecture"
   ]
  },
  {
   "cell_type": "code",
   "execution_count": 6,
   "metadata": {
    "collapsed": false
   },
   "outputs": [],
   "source": [
    "import lasagne\n",
    "from lasagne.layers import *\n",
    "\n",
    "#Input layer (auxilary)\n",
    "l_in = InputLayer(shape = input_shape,input_var=input_X)\n",
    "\n",
    "#fully connected layer, that takes input layer and applies 50 neurons to it.\n",
    "# nonlinearity here is sigmoid as in logistic regression\n",
    "# you can give a name to each layer (optional)\n",
    "l1 = Conv2DLayer(l_in, num_filters=50, filter_size=(5,5), nonlinearity=lasagne.nonlinearities.rectify)\n",
    "l2 = MaxPool2DLayer(l1, pool_size=(3,3))\n",
    "l3 = Conv2DLayer(l2, num_filters=16, filter_size=(5,5), nonlinearity=lasagne.nonlinearities.elu)\n",
    "l4 = DenseLayer(l3, num_units=128, nonlinearity=lasagne.nonlinearities.rectify)\n",
    "\n",
    "#fully connected output layer that takes dense_1 as input and has 10 neurons (1 for each digit)\n",
    "#We use softmax nonlinearity to make probabilities add up to 1\n",
    "l_out = DenseLayer(l4, num_units=10, nonlinearity=lasagne.nonlinearities.softmax)"
   ]
  },
  {
   "cell_type": "code",
   "execution_count": 7,
   "metadata": {
    "collapsed": false
   },
   "outputs": [],
   "source": [
    "#network prediction (theano-transformation)\n",
    "y_predicted = lasagne.layers.get_output(l_out)\n",
    "y_predicted_test = lasagne.layers.get_output(l_out,deterministic=True)"
   ]
  },
  {
   "cell_type": "code",
   "execution_count": 8,
   "metadata": {
    "collapsed": false
   },
   "outputs": [
    {
     "name": "stdout",
     "output_type": "stream",
     "text": [
      "[W, b, W, b, W, b, W, b]\n"
     ]
    }
   ],
   "source": [
    "#all network weights (shared variables)\n",
    "all_weights = lasagne.layers.get_all_params(l_out)\n",
    "print(all_weights)"
   ]
  },
  {
   "cell_type": "markdown",
   "metadata": {},
   "source": [
    "### Then you could simply\n",
    "* define loss function manually\n",
    "* compute error gradient over all weights\n",
    "* define updates\n",
    "* But that's a whole lot of work and life's short\n",
    "  * not to mention life's too short to wait for SGD to converge\n",
    "\n",
    "Instead, we shall use Lasagne builtins"
   ]
  },
  {
   "cell_type": "code",
   "execution_count": 9,
   "metadata": {
    "collapsed": true
   },
   "outputs": [],
   "source": [
    "#Mean categorical crossentropy as a loss function - similar to logistic loss but for multiclass targets\n",
    "loss = lasagne.objectives.categorical_crossentropy(y_predicted,target_y).mean()\n",
    "\n",
    "#prediction accuracy\n",
    "accuracy = lasagne.objectives.categorical_accuracy(y_predicted,target_y).mean()\n",
    "\n",
    "#This function computes gradient AND composes weight updates just like you did earlier\n",
    "updates_sgd = lasagne.updates.sgd(loss, all_weights,learning_rate=0.1)"
   ]
  },
  {
   "cell_type": "code",
   "execution_count": 10,
   "metadata": {
    "collapsed": true
   },
   "outputs": [],
   "source": [
    "#function that computes loss and updates weights\n",
    "train_fun = theano.function([input_X,target_y],[loss,accuracy],updates=updates_sgd)\n",
    "\n",
    "#function that just computes accuracy\n",
    "accuracy_fun = theano.function([input_X,target_y],accuracy)"
   ]
  },
  {
   "cell_type": "markdown",
   "metadata": {},
   "source": [
    "### That's all, now let's train it!\n",
    "* We got a lot of data, so it's recommended that you use SGD\n",
    "* So let's implement a function that splits the training sample into minibatches"
   ]
  },
  {
   "cell_type": "code",
   "execution_count": 11,
   "metadata": {
    "collapsed": true
   },
   "outputs": [],
   "source": [
    "# An auxilary function that returns mini-batches for neural network training\n",
    "\n",
    "#Parameters\n",
    "# inputs - a tensor of images with shape (many, 1, 28, 28), e.g. X_train\n",
    "# outputs - a vector of answers for corresponding images e.g. Y_train\n",
    "#batch_size - a single number - the intended size of each batches\n",
    "\n",
    "def iterate_minibatches(inputs, targets, batchsize):\n",
    "    assert len(inputs) == len(targets)\n",
    "    indices = np.arange(len(inputs))\n",
    "    np.random.shuffle(indices)\n",
    "    for start_idx in range(0, len(inputs) - batchsize + 1, batchsize):\n",
    "        excerpt = indices[start_idx:start_idx + batchsize]\n",
    "        yield inputs[excerpt], targets[excerpt]"
   ]
  },
  {
   "cell_type": "markdown",
   "metadata": {},
   "source": [
    "# Training loop"
   ]
  },
  {
   "cell_type": "code",
   "execution_count": 12,
   "metadata": {
    "collapsed": false,
    "scrolled": true
   },
   "outputs": [
    {
     "name": "stdout",
     "output_type": "stream",
     "text": [
      "Epoch 1 of 40 took 112.680s\n",
      "  training loss (in-iteration):\t\t0.329150\n",
      "  train accuracy:\t\t89.85 %\n",
      "  validation accuracy:\t\t96.73 %\n",
      "Epoch 2 of 40 took 109.908s\n",
      "  training loss (in-iteration):\t\t0.093894\n",
      "  train accuracy:\t\t97.08 %\n",
      "  validation accuracy:\t\t97.47 %\n",
      "Epoch 3 of 40 took 90.826s\n",
      "  training loss (in-iteration):\t\t0.063351\n",
      "  train accuracy:\t\t98.02 %\n",
      "  validation accuracy:\t\t98.27 %\n",
      "Epoch 4 of 40 took 92.635s\n",
      "  training loss (in-iteration):\t\t0.048973\n",
      "  train accuracy:\t\t98.49 %\n",
      "  validation accuracy:\t\t98.33 %\n",
      "Epoch 5 of 40 took 107.413s\n",
      "  training loss (in-iteration):\t\t0.040635\n",
      "  train accuracy:\t\t98.65 %\n",
      "  validation accuracy:\t\t98.53 %\n",
      "Epoch 6 of 40 took 110.494s\n",
      "  training loss (in-iteration):\t\t0.034476\n",
      "  train accuracy:\t\t98.92 %\n",
      "  validation accuracy:\t\t98.64 %\n",
      "Epoch 7 of 40 took 111.667s\n",
      "  training loss (in-iteration):\t\t0.030402\n",
      "  train accuracy:\t\t99.03 %\n",
      "  validation accuracy:\t\t98.52 %\n",
      "Epoch 8 of 40 took 107.119s\n",
      "  training loss (in-iteration):\t\t0.026341\n",
      "  train accuracy:\t\t99.14 %\n",
      "  validation accuracy:\t\t98.65 %\n",
      "Epoch 9 of 40 took 107.971s\n",
      "  training loss (in-iteration):\t\t0.022698\n",
      "  train accuracy:\t\t99.25 %\n",
      "  validation accuracy:\t\t98.71 %\n",
      "Epoch 10 of 40 took 107.844s\n",
      "  training loss (in-iteration):\t\t0.019985\n",
      "  train accuracy:\t\t99.40 %\n",
      "  validation accuracy:\t\t98.81 %\n",
      "Epoch 11 of 40 took 105.116s\n",
      "  training loss (in-iteration):\t\t0.017840\n",
      "  train accuracy:\t\t99.43 %\n",
      "  validation accuracy:\t\t98.89 %\n",
      "Epoch 12 of 40 took 103.756s\n",
      "  training loss (in-iteration):\t\t0.015086\n",
      "  train accuracy:\t\t99.52 %\n",
      "  validation accuracy:\t\t98.93 %\n",
      "Epoch 13 of 40 took 110.374s\n",
      "  training loss (in-iteration):\t\t0.013096\n",
      "  train accuracy:\t\t99.62 %\n",
      "  validation accuracy:\t\t98.56 %\n",
      "Epoch 14 of 40 took 110.613s\n",
      "  training loss (in-iteration):\t\t0.011223\n",
      "  train accuracy:\t\t99.68 %\n",
      "  validation accuracy:\t\t98.93 %\n",
      "Epoch 15 of 40 took 103.899s\n",
      "  training loss (in-iteration):\t\t0.010327\n",
      "  train accuracy:\t\t99.69 %\n",
      "  validation accuracy:\t\t98.76 %\n",
      "Epoch 16 of 40 took 98.383s\n",
      "  training loss (in-iteration):\t\t0.009195\n",
      "  train accuracy:\t\t99.72 %\n",
      "  validation accuracy:\t\t98.99 %\n",
      "Epoch 17 of 40 took 91.308s\n",
      "  training loss (in-iteration):\t\t0.007659\n",
      "  train accuracy:\t\t99.76 %\n",
      "  validation accuracy:\t\t99.01 %\n",
      "Epoch 18 of 40 took 91.061s\n",
      "  training loss (in-iteration):\t\t0.006991\n",
      "  train accuracy:\t\t99.81 %\n",
      "  validation accuracy:\t\t98.92 %\n",
      "Epoch 19 of 40 took 91.303s\n",
      "  training loss (in-iteration):\t\t0.005877\n",
      "  train accuracy:\t\t99.84 %\n",
      "  validation accuracy:\t\t98.97 %\n",
      "Epoch 20 of 40 took 84.759s\n",
      "  training loss (in-iteration):\t\t0.004790\n",
      "  train accuracy:\t\t99.87 %\n",
      "  validation accuracy:\t\t98.93 %\n",
      "Epoch 21 of 40 took 83.654s\n",
      "  training loss (in-iteration):\t\t0.004609\n",
      "  train accuracy:\t\t99.88 %\n",
      "  validation accuracy:\t\t98.95 %\n",
      "Epoch 22 of 40 took 88.502s\n",
      "  training loss (in-iteration):\t\t0.004069\n",
      "  train accuracy:\t\t99.90 %\n",
      "  validation accuracy:\t\t98.92 %\n",
      "Epoch 23 of 40 took 86.011s\n",
      "  training loss (in-iteration):\t\t0.003227\n",
      "  train accuracy:\t\t99.93 %\n",
      "  validation accuracy:\t\t98.89 %\n",
      "Epoch 24 of 40 took 85.784s\n",
      "  training loss (in-iteration):\t\t0.002820\n",
      "  train accuracy:\t\t99.94 %\n",
      "  validation accuracy:\t\t98.97 %\n",
      "Epoch 25 of 40 took 85.384s\n",
      "  training loss (in-iteration):\t\t0.002550\n",
      "  train accuracy:\t\t99.95 %\n",
      "  validation accuracy:\t\t98.92 %\n",
      "Epoch 26 of 40 took 89.600s\n",
      "  training loss (in-iteration):\t\t0.002359\n",
      "  train accuracy:\t\t99.94 %\n",
      "  validation accuracy:\t\t98.93 %\n",
      "Epoch 27 of 40 took 86.007s\n",
      "  training loss (in-iteration):\t\t0.001979\n",
      "  train accuracy:\t\t99.97 %\n",
      "  validation accuracy:\t\t98.94 %\n",
      "Epoch 28 of 40 took 96.403s\n",
      "  training loss (in-iteration):\t\t0.001790\n",
      "  train accuracy:\t\t99.97 %\n",
      "  validation accuracy:\t\t98.96 %\n",
      "Epoch 29 of 40 took 93.351s\n",
      "  training loss (in-iteration):\t\t0.001397\n",
      "  train accuracy:\t\t99.98 %\n",
      "  validation accuracy:\t\t98.99 %\n",
      "Epoch 30 of 40 took 83.771s\n",
      "  training loss (in-iteration):\t\t0.001092\n",
      "  train accuracy:\t\t99.98 %\n",
      "  validation accuracy:\t\t98.96 %\n",
      "Epoch 31 of 40 took 98.285s\n",
      "  training loss (in-iteration):\t\t0.000884\n",
      "  train accuracy:\t\t99.99 %\n",
      "  validation accuracy:\t\t98.97 %\n",
      "Epoch 32 of 40 took 87.688s\n",
      "  training loss (in-iteration):\t\t0.000826\n",
      "  train accuracy:\t\t99.99 %\n",
      "  validation accuracy:\t\t98.92 %\n",
      "Epoch 33 of 40 took 87.707s\n",
      "  training loss (in-iteration):\t\t0.000778\n",
      "  train accuracy:\t\t99.99 %\n",
      "  validation accuracy:\t\t98.98 %\n",
      "Epoch 34 of 40 took 89.027s\n",
      "  training loss (in-iteration):\t\t0.000791\n",
      "  train accuracy:\t\t99.99 %\n",
      "  validation accuracy:\t\t98.97 %\n",
      "Epoch 35 of 40 took 87.808s\n",
      "  training loss (in-iteration):\t\t0.000628\n",
      "  train accuracy:\t\t99.99 %\n",
      "  validation accuracy:\t\t99.03 %\n",
      "Epoch 36 of 40 took 93.824s\n",
      "  training loss (in-iteration):\t\t0.000536\n",
      "  train accuracy:\t\t100.00 %\n",
      "  validation accuracy:\t\t98.97 %\n",
      "Epoch 37 of 40 took 95.575s\n",
      "  training loss (in-iteration):\t\t0.000576\n",
      "  train accuracy:\t\t99.99 %\n",
      "  validation accuracy:\t\t98.94 %\n",
      "Epoch 38 of 40 took 88.662s\n",
      "  training loss (in-iteration):\t\t0.000486\n",
      "  train accuracy:\t\t100.00 %\n",
      "  validation accuracy:\t\t98.97 %\n",
      "Epoch 39 of 40 took 90.282s\n",
      "  training loss (in-iteration):\t\t0.000416\n",
      "  train accuracy:\t\t100.00 %\n",
      "  validation accuracy:\t\t98.99 %\n",
      "Epoch 40 of 40 took 89.773s\n",
      "  training loss (in-iteration):\t\t0.000390\n",
      "  train accuracy:\t\t100.00 %\n",
      "  validation accuracy:\t\t99.03 %\n"
     ]
    }
   ],
   "source": [
    "import time\n",
    "\n",
    "num_epochs = 40 #amount of passes through the data\n",
    "\n",
    "batch_size = 100 #number of samples processed at each function call\n",
    "\n",
    "for epoch in range(num_epochs):\n",
    "    # In each epoch, we do a full pass over the training data:\n",
    "    train_err = 0\n",
    "    train_acc = 0\n",
    "    train_batches = 0\n",
    "    start_time = time.time()\n",
    "    for batch in iterate_minibatches(X_train, y_train,batch_size):\n",
    "        inputs, targets = batch\n",
    "        train_err_batch, train_acc_batch = train_fun(inputs, targets)\n",
    "        train_err += train_err_batch\n",
    "        train_acc += train_acc_batch\n",
    "        train_batches += 1\n",
    "\n",
    "    # And a full pass over the validation data:\n",
    "    val_acc = 0\n",
    "    val_batches = 0\n",
    "    for batch in iterate_minibatches(X_val, y_val, batch_size):\n",
    "        inputs, targets = batch\n",
    "        val_acc += accuracy_fun(inputs, targets)\n",
    "        val_batches += 1\n",
    "\n",
    "    \n",
    "    # Then we print the results for this epoch:\n",
    "    print(\"Epoch {} of {} took {:.3f}s\".format(\n",
    "        epoch + 1, num_epochs, time.time() - start_time))\n",
    "\n",
    "    print(\"  training loss (in-iteration):\\t\\t{:.6f}\".format(train_err / train_batches))\n",
    "    print(\"  train accuracy:\\t\\t{:.2f} %\".format(\n",
    "        train_acc / train_batches * 100))\n",
    "    print(\"  validation accuracy:\\t\\t{:.2f} %\".format(\n",
    "        val_acc / val_batches * 100))"
   ]
  },
  {
   "cell_type": "code",
   "execution_count": 13,
   "metadata": {
    "collapsed": false
   },
   "outputs": [
    {
     "name": "stdout",
     "output_type": "stream",
     "text": [
      "Final results:\n",
      "  test accuracy:\t\t99.16 %\n",
      "Achievement unlocked: 80lvl Warlock!\n"
     ]
    }
   ],
   "source": [
    "test_acc = 0\n",
    "test_batches = 0\n",
    "for batch in iterate_minibatches(X_test, y_test, 500):\n",
    "    inputs, targets = batch\n",
    "    acc = accuracy_fun(inputs, targets)\n",
    "    test_acc += acc\n",
    "    test_batches += 1\n",
    "print(\"Final results:\")\n",
    "print(\"  test accuracy:\\t\\t{:.2f} %\".format(\n",
    "    test_acc / test_batches * 100))\n",
    "\n",
    "if test_acc / test_batches * 100 > 99:\n",
    "    print (\"Achievement unlocked: 80lvl Warlock!\")\n",
    "else:\n",
    "    print (\"We need more magic!\")"
   ]
  }
 ],
 "metadata": {
  "kernelspec": {
   "display_name": "Python 3",
   "language": "python",
   "name": "python3"
  },
  "language_info": {
   "codemirror_mode": {
    "name": "ipython",
    "version": 3
   },
   "file_extension": ".py",
   "mimetype": "text/x-python",
   "name": "python",
   "nbconvert_exporter": "python",
   "pygments_lexer": "ipython3",
   "version": "3.6.0"
  }
 },
 "nbformat": 4,
 "nbformat_minor": 1
}
