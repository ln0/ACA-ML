{
 "cells": [
  {
   "cell_type": "markdown",
   "metadata": {},
   "source": [
    "# Differentiation "
   ]
  },
  {
   "cell_type": "markdown",
   "metadata": {},
   "source": [
    "Since it easy to google every task please please please try to undestand what's going on. The \"just answer\" thing will be not counted, make sure to present derivation of your solution. It is absolutely OK if you found an answer on web then just exercise in $\\LaTeX$ copying it into here."
   ]
  },
  {
   "cell_type": "markdown",
   "metadata": {},
   "source": [
    "Useful links: \n",
    "[1](http://www.machinelearning.ru/wiki/images/2/2a/Matrix-Gauss.pdf)\n",
    "[2](http://www.atmos.washington.edu/~dennis/MatrixCalculus.pdf)\n",
    "[3](http://cal.cs.illinois.edu/~johannes/research/matrix%20calculus.pdf)"
   ]
  },
  {
   "cell_type": "markdown",
   "metadata": {},
   "source": [
    "## ex. 1"
   ]
  },
  {
   "cell_type": "markdown",
   "metadata": {},
   "source": [
    "$$  \n",
    "y = x^Tx,  \\quad x \\in \\mathbb{R}^N \n",
    "$$"
   ]
  },
  {
   "cell_type": "markdown",
   "metadata": {},
   "source": [
    "$$\n",
    "\\frac{\\partial y}{\\partial x} = \\frac{\\partial (x_1^2+x_2^2+...x_n^2)}{\\partial x} = \\begin{pmatrix} \\frac{\\partial (x_1^2+...+x_n^2)}{\\partial x_1} \\\\ . \\\\ . \\\\ . \\\\ \\frac{\\partial (x_1^2+...+x_n^2)}{\\partial x_n} \\end{pmatrix} = \\begin{pmatrix} 2x_1 \\\\ . \\\\ . \\\\ . \\\\ 2x_2 \\end{pmatrix} = 2x \n",
    "$$"
   ]
  },
  {
   "cell_type": "markdown",
   "metadata": {},
   "source": [
    "## ex. 2"
   ]
  },
  {
   "cell_type": "markdown",
   "metadata": {},
   "source": [
    "$$ y = tr(AB) \\quad A,B \\in \\mathbb{R}^{N \\times N} $$ "
   ]
  },
  {
   "cell_type": "markdown",
   "metadata": {},
   "source": [
    "$$\n",
    "\\frac{\\partial}{\\partial a_{ij}} y = \\frac{\\partial}{\\partial a_{ij}} \\sum_{i=1}^{m} \\sum_{j=1}^{n} a_{ij} b_{ji} = \\frac{\\partial}{\\partial a_{ij}} (a_{11} b_{11} + a_{12} b_{21} + ... + a_{ij} b_{ji} + ... + a_{nn} b_{nn}) = b_{ji}\n",
    "$$\n",
    "\n",
    "$$\n",
    "\\frac{dy}{dA} = \\begin{pmatrix} \\frac{dy}{da_{11}} & . & . & . & \\frac{dy}{da_{1n}} \\\\ . & . & . & . & . \\\\ . & . & . & . & .  \\\\ . & . & . & . & .  \\\\ . & . & . & . & .  \\\\ . & . & . & . & .  \\\\ \\frac{dy}{da_{n1}} & . & . & . & \\frac{dy}{da_{nn}} \\end{pmatrix} = \\begin{pmatrix} b_{11} & . & . & . & b_{n1} \\\\ . & . & . & . & .  \\\\ . & . & . & . & .  \\\\ . & . & . & . & .  \\\\ . & . & . & . & .  \\\\ . & . & . & . & .  \\\\ b_{1n} & . & . & . & b_{nn} \\end{pmatrix} = B^T\n",
    "$$"
   ]
  },
  {
   "cell_type": "markdown",
   "metadata": {},
   "source": [
    "## ex. 3"
   ]
  },
  {
   "cell_type": "markdown",
   "metadata": {},
   "source": [
    "$$  \n",
    "y = x^TAc , \\quad A\\in \\mathbb{R}^{N \\times N}, x\\in \\mathbb{R}^{N}, c\\in \\mathbb{R}^{N} \n",
    "$$"
   ]
  },
  {
   "cell_type": "markdown",
   "metadata": {},
   "source": [
    "$$\n",
    "y = \\begin{pmatrix} x_1 & . & . & . & x_n \\end{pmatrix} \\begin{pmatrix} a_{11} & . & . & . & a_{1n} \\\\ . & . & . & . & .\\\\ . & . & . & . & .\\\\ . & . & . & . & .\\\\ a_{n1} & . & . & . & a_{nn} \\end{pmatrix} \\begin{pmatrix} c_1 \\\\ . \\\\ . \\\\ . \\\\ c_n \\end{pmatrix} = \\begin{pmatrix} x_{11} a_{11} + x_2 a_{22} + ... + x_n a_{n1} & .& .& .& x_1 a_{1n} + x_2 a_{2n} + ... + x_n a_{nn} \\end{pmatrix} \\begin{pmatrix} c_1 \\\\ . \\\\ . \\\\ . \\\\ c_n \\end{pmatrix} = c_1 (x_1 a_{11} +x_2 a_{21} + ... + x_n a_{n1}) + c_2 (x_1 a_{12} +x_2 a_{22} + ... + x_n a_{n2}) + ... + c_n (x_1 a_{1n} +x_2 a_{2n} + ... + x_n a_{nn})\n",
    "$$"
   ]
  },
  {
   "cell_type": "markdown",
   "metadata": {},
   "source": [
    "$$\n",
    "\\frac{dy}{dA} = \\begin{pmatrix} c_1 x_1 & c_2 x_1 &  ...  & c_n x_1 \\\\ c_1 x_2 & c_2 x_2 &  ...  & c_n x_2 \\\\ . & . & . & .\\\\ . & . & . & .\\\\ . & . & . & . \\\\ c_1 x_n & c_2 x_n &  ...  & c_n x_n \\end{pmatrix} = x c^T\n",
    "$$ "
   ]
  },
  {
   "cell_type": "markdown",
   "metadata": {},
   "source": [
    "## ex. 4"
   ]
  },
  {
   "cell_type": "markdown",
   "metadata": {},
   "source": [
    "Classic matrix factorization example. Given matrix $X$ you need to find $A$, $S$ to approximate $X$. This can be done by simple gradient descent iteratively alternating $A$ and $S$ updates.\n",
    "$$\n",
    "J = || X - AS ||_2^2  , \\quad A\\in \\mathbb{R}^{N \\times R} , \\quad S\\in \\mathbb{R}^{R \\times M}\n",
    "$$"
   ]
  },
  {
   "cell_type": "markdown",
   "metadata": {},
   "source": [
    "$$\n",
    "\\frac{dJ}{dS} = \\frac{d}{dS} || X - AS ||_2^2 = \\frac{d}{dS} tr((X - AS)(X - AS)^T) = \\frac{d(tr((X - AS)(X - AS)^T))}{d(X-AS)} \\frac{d(X - AS)}{dS}\\ = ((X - AS)^T)^T\\frac{d(X - AS)}{dS} = (X - AS)\\frac{d(X - AS)}{dS}=  \n",
    "$$\n",
    "$$\n",
    "=-2A^T(X - AS) =  2A^T(AS - X)\n",
    "$$"
   ]
  }
 ],
 "metadata": {
  "kernelspec": {
   "display_name": "Python 3",
   "language": "python",
   "name": "python3"
  },
  "language_info": {
   "codemirror_mode": {
    "name": "ipython",
    "version": 3
   },
   "file_extension": ".py",
   "mimetype": "text/x-python",
   "name": "python",
   "nbconvert_exporter": "python",
   "pygments_lexer": "ipython3",
   "version": "3.6.0"
  }
 },
 "nbformat": 4,
 "nbformat_minor": 1
}
