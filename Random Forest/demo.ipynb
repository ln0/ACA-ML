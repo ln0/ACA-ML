{
 "cells": [
  {
   "cell_type": "code",
   "execution_count": 1,
   "metadata": {
    "collapsed": false
   },
   "outputs": [],
   "source": [
    "import numpy as np\n",
    "from runner import evaluate_performance"
   ]
  },
  {
   "cell_type": "code",
   "execution_count": 2,
   "metadata": {
    "collapsed": false
   },
   "outputs": [
    {
     "name": "stdout",
     "output_type": "stream",
     "text": [
      "Dimensions: (267, 45)\n",
      "First three rows: \n",
      " [[  1.  59.  52.  70.  67.  73.  66.  72.  61.  58.  52.  72.  71.  70.\n",
      "   77.  66.  65.  67.  55.  61.  57.  68.  66.  72.  74.  63.  64.  56.\n",
      "   54.  67.  54.  76.  74.  65.  67.  66.  56.  62.  56.  72.  62.  74.\n",
      "   74.  64.  67.]\n",
      " [  1.  72.  62.  69.  67.  78.  82.  74.  65.  69.  63.  70.  70.  72.\n",
      "   74.  70.  71.  72.  75.  66.  65.  73.  78.  74.  79.  74.  69.  69.\n",
      "   70.  71.  69.  72.  70.  62.  65.  65.  71.  63.  60.  69.  73.  67.\n",
      "   71.  56.  58.]\n",
      " [  1.  71.  62.  70.  64.  67.  64.  79.  65.  70.  69.  72.  71.  68.\n",
      "   65.  61.  61.  73.  71.  75.  74.  80.  74.  54.  47.  53.  37.  77.\n",
      "   68.  72.  59.  72.  68.  60.  60.  73.  70.  66.  65.  64.  55.  61.\n",
      "   41.  51.  46.]]\n"
     ]
    }
   ],
   "source": [
    "# Load Data\n",
    "data = np.loadtxt('SPECTF.dat', delimiter=',')\n",
    "print('Dimensions:', np.shape(data))\n",
    "print('First three rows: \\n', data[:3,:])"
   ]
  },
  {
   "cell_type": "code",
   "execution_count": 3,
   "metadata": {
    "collapsed": false
   },
   "outputs": [
    {
     "name": "stdout",
     "output_type": "stream",
     "text": [
      "Decision Tree Accuracy =  0.739814814815  ( 0.0174134738871 )\n",
      "Random Forest Accuracy =  0.809401709402  ( 0.0144492481771 )\n",
      "Logistic Reg. Accuracy =  0.868873098202  ( 0.00215739798759 )\n"
     ]
    }
   ],
   "source": [
    "stats = evaluate_performance()\n",
    "print(\"Decision Tree Accuracy = \", stats[0, 0], \" (\", stats[0, 1], \")\")\n",
    "print(\"Random Forest Accuracy = \", stats[1, 0], \" (\", stats[1, 1], \")\")\n",
    "print(\"Logistic Reg. Accuracy = \", stats[2, 0], \" (\", stats[2, 1], \")\")"
   ]
  }
 ],
 "metadata": {
  "kernelspec": {
   "display_name": "Python 3",
   "language": "python",
   "name": "python3"
  },
  "language_info": {
   "codemirror_mode": {
    "name": "ipython",
    "version": 3
   },
   "file_extension": ".py",
   "mimetype": "text/x-python",
   "name": "python",
   "nbconvert_exporter": "python",
   "pygments_lexer": "ipython3",
   "version": "3.6.0"
  }
 },
 "nbformat": 4,
 "nbformat_minor": 2
}
